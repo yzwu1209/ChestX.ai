{
    "metadata": {
        "kernelspec": {
            "name": "SQL",
            "display_name": "SQL",
            "language": "sql"
        },
        "language_info": {
            "name": "sql",
            "version": ""
        }
    },
    "nbformat_minor": 2,
    "nbformat": 4,
    "cells": [
        {
            "cell_type": "markdown",
            "source": [
                "# Scripts for Database Creation\n",
                "\n",
                "This script is created for ChestX.ai database creation. \n",
                "\n",
                "- Created by: Chloe Wu\n",
                "- Created Date: June 11, 2020\n",
                "- Version: v1.0\n",
                "- Version Date: 2020/06/11"
            ],
            "metadata": {
                "azdata_cell_guid": "0312f2d7-d485-4161-9856-6809a61e5657"
            }
        },
        {
            "cell_type": "markdown",
            "source": [
                "## 1. Patient Table"
            ],
            "metadata": {
                "azdata_cell_guid": "067fed37-e171-4cf9-9012-5930ab50686a"
            }
        },
        {
            "cell_type": "code",
            "source": [
                "-- This is the table for storing patient records\n",
                "IF EXISTS ( SELECT [name] FROM sys.tables WHERE [name] = 'patient' )   \n",
                "DROP TABLE patient   \n",
                "GO   \n",
                "     \n",
                "CREATE TABLE patient   \n",
                "(   \n",
                "  PatientID int identity(1,1), \n",
                "   PatientName VARCHAR(100)  NOT NULL, \n",
                "   Gender VARCHAR(100)  NOT NULL,\n",
                "   BirthDate DATE,\n",
                "    ContactAddress VARCHAR(500),\n",
                "    ContactCity VARCHAR(100),\n",
                "    ContactState VARCHAR(100),\n",
                "    ZipCode VARCHAR(100),\n",
                "    Phone VARCHAR(100),\n",
                "    Email VARCHAR(100),\n",
                "    Race VARCHAR(100),\n",
                "    MaritalStatus VARCHAR(100),\n",
                "CONSTRAINT [PK_Patient] PRIMARY KEY CLUSTERED         \n",
                "(        \n",
                "  PatientID ASC   \n",
                "    \n",
                ") WITH (PAD_INDEX  = OFF, STATISTICS_NORECOMPUTE  = OFF, IGNORE_DUP_KEY = OFF, ALLOW_ROW_LOCKS  = ON, ALLOW_PAGE_LOCKS  = ON) ON [PRIMARY]        \n",
                ") ON [PRIMARY]      \n",
                ""
            ],
            "metadata": {
                "azdata_cell_guid": "ab4e8d9c-df47-4b15-a8a5-4235c3876469",
                "tags": []
            },
            "outputs": [
                {
                    "output_type": "display_data",
                    "data": {
                        "text/html": "Commands completed successfully."
                    },
                    "metadata": {}
                },
                {
                    "output_type": "display_data",
                    "data": {
                        "text/html": "Commands completed successfully."
                    },
                    "metadata": {}
                },
                {
                    "output_type": "display_data",
                    "data": {
                        "text/html": "Total execution time: 00:00:00.151"
                    },
                    "metadata": {}
                }
            ],
            "execution_count": 1
        },
        {
            "cell_type": "code",
            "source": [
                "ALTER TABLE patient\n",
                "DROP COLUMN PatientName;\n",
                "\n",
                ""
            ],
            "metadata": {
                "azdata_cell_guid": "062a1df5-0d4f-4ab8-b7d4-c2e14827eb30"
            },
            "outputs": [
                {
                    "output_type": "error",
                    "ename": "",
                    "evalue": "Msg 4924, Level 16, State 1, Line 1\nALTER TABLE DROP COLUMN failed because column 'PatientName' does not exist in table 'patient'.",
                    "traceback": []
                },
                {
                    "output_type": "display_data",
                    "data": {
                        "text/html": "Total execution time: 00:00:00.038"
                    },
                    "metadata": {}
                }
            ],
            "execution_count": 2
        },
        {
            "cell_type": "code",
            "source": [
                "ALTER TABLE patient\n",
                "ADD FirstName VARCHAR(100);\n",
                "\n",
                "ALTER TABLE patient\n",
                "ADD LastName VARCHAR(100);"
            ],
            "metadata": {
                "azdata_cell_guid": "9c2cb52c-e3be-418e-8292-e260183bfdfe"
            },
            "outputs": [
                {
                    "output_type": "display_data",
                    "data": {
                        "text/html": "Commands completed successfully."
                    },
                    "metadata": {}
                },
                {
                    "output_type": "display_data",
                    "data": {
                        "text/html": "Total execution time: 00:00:00.053"
                    },
                    "metadata": {}
                }
            ],
            "execution_count": 3
        },
        {
            "cell_type": "code",
            "source": [
                "-- Insert a test patient record into database\n",
                "Insert into dbo.patient(FirstName, LastName, Gender) Values('Chloe', 'Wu','Female') \n",
                "\n",
                "select * from patient "
            ],
            "metadata": {
                "azdata_cell_guid": "ff251db4-a54b-4c85-aeec-06b2e85f2027",
                "tags": []
            },
            "outputs": [
                {
                    "output_type": "display_data",
                    "data": {
                        "text/html": "(1 row affected)"
                    },
                    "metadata": {}
                },
                {
                    "output_type": "display_data",
                    "data": {
                        "text/html": "(2 rows affected)"
                    },
                    "metadata": {}
                },
                {
                    "output_type": "display_data",
                    "data": {
                        "text/html": "Total execution time: 00:00:00.119"
                    },
                    "metadata": {}
                },
                {
                    "output_type": "execute_result",
                    "execution_count": 4,
                    "data": {
                        "application/vnd.dataresource+json": {
                            "schema": {
                                "fields": [
                                    {
                                        "name": "PatientID"
                                    },
                                    {
                                        "name": "Gender"
                                    },
                                    {
                                        "name": "BirthDate"
                                    },
                                    {
                                        "name": "ContactAddress"
                                    },
                                    {
                                        "name": "ContactCity"
                                    },
                                    {
                                        "name": "ContactState"
                                    },
                                    {
                                        "name": "ZipCode"
                                    },
                                    {
                                        "name": "Phone"
                                    },
                                    {
                                        "name": "Email"
                                    },
                                    {
                                        "name": "Race"
                                    },
                                    {
                                        "name": "MaritalStatus"
                                    },
                                    {
                                        "name": "FirstName"
                                    },
                                    {
                                        "name": "LastName"
                                    }
                                ]
                            },
                            "data": [
                                {
                                    "0": "1",
                                    "1": "Female",
                                    "2": "NULL",
                                    "3": "NULL",
                                    "4": "NULL",
                                    "5": "NULL",
                                    "6": "NULL",
                                    "7": "NULL",
                                    "8": "NULL",
                                    "9": "NULL",
                                    "10": "NULL",
                                    "11": "NULL",
                                    "12": "NULL"
                                },
                                {
                                    "0": "2",
                                    "1": "Female",
                                    "2": "NULL",
                                    "3": "NULL",
                                    "4": "NULL",
                                    "5": "NULL",
                                    "6": "NULL",
                                    "7": "NULL",
                                    "8": "NULL",
                                    "9": "NULL",
                                    "10": "NULL",
                                    "11": "Chloe",
                                    "12": "Wu"
                                }
                            ]
                        },
                        "text/html": "<table><tr><th>PatientID</th><th>Gender</th><th>BirthDate</th><th>ContactAddress</th><th>ContactCity</th><th>ContactState</th><th>ZipCode</th><th>Phone</th><th>Email</th><th>Race</th><th>MaritalStatus</th><th>FirstName</th><th>LastName</th></tr><tr><td>1</td><td>Female</td><td>NULL</td><td>NULL</td><td>NULL</td><td>NULL</td><td>NULL</td><td>NULL</td><td>NULL</td><td>NULL</td><td>NULL</td><td>NULL</td><td>NULL</td></tr><tr><td>2</td><td>Female</td><td>NULL</td><td>NULL</td><td>NULL</td><td>NULL</td><td>NULL</td><td>NULL</td><td>NULL</td><td>NULL</td><td>NULL</td><td>Chloe</td><td>Wu</td></tr></table>"
                    },
                    "metadata": {}
                }
            ],
            "execution_count": 4
        },
        {
            "cell_type": "code",
            "source": [
                "UPDATE patient\n",
                "SET FirstName = 'Mary', LastName = 'Smith'\n",
                "where PatientID = 1;\n",
                "\n",
                "select * from patient "
            ],
            "metadata": {
                "azdata_cell_guid": "f5134fb9-a870-4e3a-b198-2d6f3b87a161"
            },
            "outputs": [
                {
                    "output_type": "display_data",
                    "data": {
                        "text/html": "(1 row affected)"
                    },
                    "metadata": {}
                },
                {
                    "output_type": "display_data",
                    "data": {
                        "text/html": "(2 rows affected)"
                    },
                    "metadata": {}
                },
                {
                    "output_type": "display_data",
                    "data": {
                        "text/html": "Total execution time: 00:00:00.040"
                    },
                    "metadata": {}
                },
                {
                    "output_type": "execute_result",
                    "execution_count": 9,
                    "data": {
                        "application/vnd.dataresource+json": {
                            "schema": {
                                "fields": [
                                    {
                                        "name": "PatientID"
                                    },
                                    {
                                        "name": "Gender"
                                    },
                                    {
                                        "name": "BirthDate"
                                    },
                                    {
                                        "name": "ContactAddress"
                                    },
                                    {
                                        "name": "ContactCity"
                                    },
                                    {
                                        "name": "ContactState"
                                    },
                                    {
                                        "name": "ZipCode"
                                    },
                                    {
                                        "name": "Phone"
                                    },
                                    {
                                        "name": "Email"
                                    },
                                    {
                                        "name": "Race"
                                    },
                                    {
                                        "name": "MaritalStatus"
                                    },
                                    {
                                        "name": "FirstName"
                                    },
                                    {
                                        "name": "LastName"
                                    }
                                ]
                            },
                            "data": [
                                {
                                    "0": "1",
                                    "1": "Female",
                                    "2": "NULL",
                                    "3": "NULL",
                                    "4": "NULL",
                                    "5": "NULL",
                                    "6": "NULL",
                                    "7": "NULL",
                                    "8": "NULL",
                                    "9": "NULL",
                                    "10": "NULL",
                                    "11": "Mary",
                                    "12": "Smith"
                                },
                                {
                                    "0": "2",
                                    "1": "Female",
                                    "2": "NULL",
                                    "3": "NULL",
                                    "4": "NULL",
                                    "5": "NULL",
                                    "6": "NULL",
                                    "7": "NULL",
                                    "8": "NULL",
                                    "9": "NULL",
                                    "10": "NULL",
                                    "11": "Chloe",
                                    "12": "Wu"
                                }
                            ]
                        },
                        "text/html": "<table><tr><th>PatientID</th><th>Gender</th><th>BirthDate</th><th>ContactAddress</th><th>ContactCity</th><th>ContactState</th><th>ZipCode</th><th>Phone</th><th>Email</th><th>Race</th><th>MaritalStatus</th><th>FirstName</th><th>LastName</th></tr><tr><td>1</td><td>Female</td><td>NULL</td><td>NULL</td><td>NULL</td><td>NULL</td><td>NULL</td><td>NULL</td><td>NULL</td><td>NULL</td><td>NULL</td><td>Mary</td><td>Smith</td></tr><tr><td>2</td><td>Female</td><td>NULL</td><td>NULL</td><td>NULL</td><td>NULL</td><td>NULL</td><td>NULL</td><td>NULL</td><td>NULL</td><td>NULL</td><td>Chloe</td><td>Wu</td></tr></table>"
                    },
                    "metadata": {}
                }
            ],
            "execution_count": 9
        },
        {
            "cell_type": "markdown",
            "source": [
                "## 2. Login User Table"
            ],
            "metadata": {
                "azdata_cell_guid": "b2a79002-aa98-4f47-a5c7-fd64478eafa9"
            }
        },
        {
            "cell_type": "code",
            "source": [
                "-- This is the table for storing user accounts who can log into our application\n",
                "-- Our target users would be radiologists\n",
                "IF EXISTS ( SELECT [name] FROM sys.tables WHERE [name] = 'sys_user' )   \n",
                "DROP TABLE sys_user   \n",
                "GO   \n",
                "     \n",
                "CREATE TABLE sys_user   \n",
                "(   \n",
                "  UserID int identity(1,1), \n",
                "   UserName VARCHAR(100)  NOT NULL, \n",
                "   LoginPassward VARCHAR(100)  NOT NULL,\n",
                "   UserEmail VARCHAR(100)  NOT NULL,\n",
                "   CreatedBy VARCHAR(100) NOT NULL,\n",
                "   CreatedDate DATETIME NOT NULL,\n",
                "   UpdatedBy VARCHAR(100) NOT NULL,\n",
                "   UpdatedDate DATETIME NOT NULL,\n",
                "CONSTRAINT [PK_sys_user] PRIMARY KEY CLUSTERED         \n",
                "(        \n",
                "  UserID ASC   \n",
                "    \n",
                ")WITH (PAD_INDEX  = OFF, STATISTICS_NORECOMPUTE  = OFF, IGNORE_DUP_KEY = OFF, ALLOW_ROW_LOCKS  = ON, ALLOW_PAGE_LOCKS  = ON) ON [PRIMARY]        \n",
                ") ON [PRIMARY]     "
            ],
            "metadata": {
                "azdata_cell_guid": "8d879f35-fe0a-4370-97d5-1234673d717d",
                "tags": []
            },
            "outputs": [
                {
                    "output_type": "display_data",
                    "data": {
                        "text/html": "Commands completed successfully."
                    },
                    "metadata": {}
                },
                {
                    "output_type": "display_data",
                    "data": {
                        "text/html": "Commands completed successfully."
                    },
                    "metadata": {}
                },
                {
                    "output_type": "display_data",
                    "data": {
                        "text/html": "Total execution time: 00:00:00.068"
                    },
                    "metadata": {}
                }
            ],
            "execution_count": 1
        },
        {
            "cell_type": "code",
            "source": [
                "-- Insert a test user record into database\n",
                "Insert into sys_user\n",
                "Values('tester','tester', 'yzwu1209@gmail.com', 'admin', getdate(), 'admin', GETDATE()) \n",
                "\n",
                "select * from sys_user "
            ],
            "metadata": {
                "azdata_cell_guid": "b35a277c-30c1-4941-880f-0fc3cec9d901",
                "tags": []
            },
            "outputs": [
                {
                    "output_type": "display_data",
                    "data": {
                        "text/html": "(1 row affected)"
                    },
                    "metadata": {}
                },
                {
                    "output_type": "display_data",
                    "data": {
                        "text/html": "(2 rows affected)"
                    },
                    "metadata": {}
                },
                {
                    "output_type": "display_data",
                    "data": {
                        "text/html": "Total execution time: 00:00:00.032"
                    },
                    "metadata": {}
                },
                {
                    "output_type": "execute_result",
                    "execution_count": 1,
                    "data": {
                        "application/vnd.dataresource+json": {
                            "schema": {
                                "fields": [
                                    {
                                        "name": "UserID"
                                    },
                                    {
                                        "name": "UserName"
                                    },
                                    {
                                        "name": "LoginPassward"
                                    },
                                    {
                                        "name": "UserEmail"
                                    },
                                    {
                                        "name": "CreatedBy"
                                    },
                                    {
                                        "name": "CreatedDate"
                                    },
                                    {
                                        "name": "UpdatedBy"
                                    },
                                    {
                                        "name": "UpdatedDate"
                                    }
                                ]
                            },
                            "data": [
                                {
                                    "0": "1",
                                    "1": "tester",
                                    "2": "tester",
                                    "3": "yzwu1209@gmail.com",
                                    "4": "admin",
                                    "5": "2020-06-11",
                                    "6": "admin",
                                    "7": "2020-06-11"
                                },
                                {
                                    "0": "2",
                                    "1": "tester",
                                    "2": "tester",
                                    "3": "yzwu1209@gmail.com",
                                    "4": "admin",
                                    "5": "2020-06-11",
                                    "6": "admin",
                                    "7": "2020-06-11"
                                }
                            ]
                        },
                        "text/html": "<table><tr><th>UserID</th><th>UserName</th><th>LoginPassward</th><th>UserEmail</th><th>CreatedBy</th><th>CreatedDate</th><th>UpdatedBy</th><th>UpdatedDate</th></tr><tr><td>1</td><td>tester</td><td>tester</td><td>yzwu1209@gmail.com</td><td>admin</td><td>2020-06-11</td><td>admin</td><td>2020-06-11</td></tr><tr><td>2</td><td>tester</td><td>tester</td><td>yzwu1209@gmail.com</td><td>admin</td><td>2020-06-11</td><td>admin</td><td>2020-06-11</td></tr></table>"
                    },
                    "metadata": {}
                }
            ],
            "execution_count": 1
        },
        {
            "cell_type": "code",
            "source": [
                "update sys_user\n",
                "set UserName = 'tester2', UserEmail = 'tester@test.com'\n",
                "where UserId = 2"
            ],
            "metadata": {
                "azdata_cell_guid": "3e9e9da4-c349-449f-b4b5-5a6c41477d5d",
                "tags": []
            },
            "outputs": [
                {
                    "output_type": "display_data",
                    "data": {
                        "text/html": "(1 row affected)"
                    },
                    "metadata": {}
                },
                {
                    "output_type": "display_data",
                    "data": {
                        "text/html": "Total execution time: 00:00:00.037"
                    },
                    "metadata": {}
                }
            ],
            "execution_count": 2
        },
        {
            "cell_type": "code",
            "source": [
                "select * from sys_user "
            ],
            "metadata": {
                "azdata_cell_guid": "aa627193-0ba0-4a73-9719-16bb80f6e38b",
                "tags": []
            },
            "outputs": [
                {
                    "output_type": "display_data",
                    "data": {
                        "text/html": "(2 rows affected)"
                    },
                    "metadata": {}
                },
                {
                    "output_type": "display_data",
                    "data": {
                        "text/html": "Total execution time: 00:00:00.038"
                    },
                    "metadata": {}
                },
                {
                    "output_type": "execute_result",
                    "execution_count": 3,
                    "data": {
                        "application/vnd.dataresource+json": {
                            "schema": {
                                "fields": [
                                    {
                                        "name": "UserID"
                                    },
                                    {
                                        "name": "UserName"
                                    },
                                    {
                                        "name": "LoginPassward"
                                    },
                                    {
                                        "name": "UserEmail"
                                    },
                                    {
                                        "name": "CreatedBy"
                                    },
                                    {
                                        "name": "CreatedDate"
                                    },
                                    {
                                        "name": "UpdatedBy"
                                    },
                                    {
                                        "name": "UpdatedDate"
                                    }
                                ]
                            },
                            "data": [
                                {
                                    "0": "1",
                                    "1": "tester",
                                    "2": "tester",
                                    "3": "yzwu1209@gmail.com",
                                    "4": "admin",
                                    "5": "2020-06-11",
                                    "6": "admin",
                                    "7": "2020-06-11"
                                },
                                {
                                    "0": "2",
                                    "1": "tester2",
                                    "2": "tester",
                                    "3": "tester@test.com",
                                    "4": "admin",
                                    "5": "2020-06-11",
                                    "6": "admin",
                                    "7": "2020-06-11"
                                }
                            ]
                        },
                        "text/html": "<table><tr><th>UserID</th><th>UserName</th><th>LoginPassward</th><th>UserEmail</th><th>CreatedBy</th><th>CreatedDate</th><th>UpdatedBy</th><th>UpdatedDate</th></tr><tr><td>1</td><td>tester</td><td>tester</td><td>yzwu1209@gmail.com</td><td>admin</td><td>2020-06-11</td><td>admin</td><td>2020-06-11</td></tr><tr><td>2</td><td>tester2</td><td>tester</td><td>tester@test.com</td><td>admin</td><td>2020-06-11</td><td>admin</td><td>2020-06-11</td></tr></table>"
                    },
                    "metadata": {}
                }
            ],
            "execution_count": 3
        },
        {
            "cell_type": "markdown",
            "source": [
                "## 3. CXR Image Record Table"
            ],
            "metadata": {
                "azdata_cell_guid": "3bb6c7fb-9fd4-4603-b364-f0ac90c34afb"
            }
        },
        {
            "cell_type": "code",
            "source": [
                "-- This is the table for storing CXR image records that are uploaded into our application\n",
                "\n",
                "IF EXISTS ( SELECT [name] FROM sys.tables WHERE [name] = 'xray_image' )   \n",
                "DROP TABLE xray_image   \n",
                "GO   \n",
                "     \n",
                "CREATE TABLE xray_image   \n",
                "(   \n",
                "  ImageID int identity(1,1), \n",
                "   ImageFileName VARCHAR(max)  NOT NULL, \n",
                "   ImageFile VARBINARY(max)  NOT NULL,\n",
                "   PatientID int NOT NULL,\n",
                "   CreatedBy VARCHAR(100) NOT NULL,\n",
                "   CreatedDate DATETIME NOT NULL,\n",
                "   UpdatedBy VARCHAR(100) NOT NULL,\n",
                "   UpdatedDate DATETIME NOT NULL,\n",
                "CONSTRAINT [PK_xray_image] PRIMARY KEY CLUSTERED         \n",
                "(        \n",
                "  ImageID ASC   \n",
                "    \n",
                ")WITH (PAD_INDEX  = OFF, STATISTICS_NORECOMPUTE  = OFF, IGNORE_DUP_KEY = OFF, ALLOW_ROW_LOCKS  = ON, ALLOW_PAGE_LOCKS  = ON) ON [PRIMARY],\n",
                "CONSTRAINT FK_PatientID FOREIGN KEY (PatientID)\n",
                "    REFERENCES patient(PatientID)\n",
                ");    \n",
                ""
            ],
            "metadata": {
                "azdata_cell_guid": "08c33714-ccaf-4ded-b125-7033892817a6",
                "tags": []
            },
            "outputs": [
                {
                    "output_type": "error",
                    "ename": "",
                    "evalue": "Msg 3726, Level 16, State 1, Line 4\nCould not drop object 'xray_image' because it is referenced by a FOREIGN KEY constraint.",
                    "traceback": []
                },
                {
                    "output_type": "error",
                    "ename": "",
                    "evalue": "Msg 2714, Level 16, State 6, Line 7\nThere is already an object named 'xray_image' in the database.",
                    "traceback": []
                },
                {
                    "output_type": "display_data",
                    "data": {
                        "text/html": "Total execution time: 00:00:00.099"
                    },
                    "metadata": {}
                }
            ],
            "execution_count": 3
        },
        {
            "cell_type": "code",
            "source": [
                "-- This column is for storing the URL that xray image is uploaded to. \n",
                "ALTER TABLE xray_image\n",
                "ADD ImageURL VARCHAR(MAX);"
            ],
            "metadata": {
                "azdata_cell_guid": "c6c7114f-969b-49fe-b3cc-34b69fb9da22"
            },
            "outputs": [
                {
                    "output_type": "display_data",
                    "data": {
                        "text/html": "Commands completed successfully."
                    },
                    "metadata": {}
                },
                {
                    "output_type": "display_data",
                    "data": {
                        "text/html": "Total execution time: 00:00:00.044"
                    },
                    "metadata": {}
                }
            ],
            "execution_count": 4
        },
        {
            "cell_type": "markdown",
            "source": [
                "## 4. Modeling Results Table"
            ],
            "metadata": {
                "azdata_cell_guid": "2e2ec477-1c37-4787-ad89-1d82f5a04e05"
            }
        },
        {
            "cell_type": "code",
            "source": [
                "-- This is the table for storing model classification results for each CXR image record \n",
                "\n",
                "IF EXISTS ( SELECT [name] FROM sys.tables WHERE [name] = 'model_result' )   \n",
                "DROP TABLE model_result   \n",
                "GO   \n",
                "     \n",
                "CREATE TABLE model_result   \n",
                "(   \n",
                "  ResultID int identity(1,1), \n",
                "  ImageID int NOT NULL,\n",
                "  ModelImage VARBINARY(max)  NOT NULL,\n",
                "  ModelImageURL VARCHAR(MAX),\n",
                "  Atelectasis FLOAT, \n",
                "  COVID19 FLOAT,\n",
                "  Cardiomegaly FLOAT,\n",
                "  Consolidation FLOAT,\n",
                "  Edema FLOAT,\n",
                "  Effusion FLOAT,\n",
                "  Emphysema FLOAT,\n",
                "  Fibrosis FLOAT,\n",
                "  Hernia FLOAT,\n",
                "  Infiltration FLOAT,\n",
                "  Lung_Cancer FLOAT,\n",
                "  Mass FLOAT,\n",
                "  Nodule FLOAT,\n",
                "  Normal FLOAT,\n",
                "  Pleural_Thickening FLOAT,\n",
                "  Pneumonia FLOAT,\n",
                "  Pneumothorax FLOAT,   \n",
                "   CreatedBy VARCHAR(100) NOT NULL,\n",
                "   CreatedDate DATETIME NOT NULL,\n",
                "   UpdatedBy VARCHAR(100) NOT NULL,\n",
                "   UpdatedDate DATETIME NOT NULL,\n",
                "CONSTRAINT [PK_model_result] PRIMARY KEY CLUSTERED         \n",
                "(        \n",
                "  ResultID ASC   \n",
                "    \n",
                ")WITH (PAD_INDEX  = OFF, STATISTICS_NORECOMPUTE  = OFF, IGNORE_DUP_KEY = OFF, ALLOW_ROW_LOCKS  = ON, ALLOW_PAGE_LOCKS  = ON) ON [PRIMARY],        \n",
                "CONSTRAINT FK_ImageID FOREIGN KEY (ImageID)\n",
                "    REFERENCES xray_image(ImageID)\n",
                ");    \n",
                "   "
            ],
            "metadata": {
                "azdata_cell_guid": "26eb0071-6e61-4ab0-8f28-ae0bd545e0b2",
                "tags": []
            },
            "outputs": [
                {
                    "output_type": "display_data",
                    "data": {
                        "text/html": "Commands completed successfully."
                    },
                    "metadata": {}
                },
                {
                    "output_type": "display_data",
                    "data": {
                        "text/html": "Commands completed successfully."
                    },
                    "metadata": {}
                },
                {
                    "output_type": "display_data",
                    "data": {
                        "text/html": "Total execution time: 00:00:00.096"
                    },
                    "metadata": {}
                }
            ],
            "execution_count": 2
        },
        {
            "cell_type": "markdown",
            "source": [
                "## 5. Actual Diagnosis Table"
            ],
            "metadata": {
                "azdata_cell_guid": "a287f8b5-64dd-4be2-beb8-68fa03e1feb4"
            }
        },
        {
            "cell_type": "code",
            "source": [
                "-- This is the table for storing radiologist's actual diagnosis and notes for each CXR image record\n",
                "\n",
                "IF EXISTS ( SELECT [name] FROM sys.tables WHERE [name] = 'diagnosis' )   \n",
                "DROP TABLE diagnosis   \n",
                "GO   \n",
                "     \n",
                "CREATE TABLE diagnosis   \n",
                "(   \n",
                "  DiagnosisID int identity(1,1), \n",
                "   ImageID int NOT NULL, \n",
                "   DiagnosisRes VARCHAR(max) NOT NULL,\n",
                "   Comments VARCHAR(max) NOT NULL,\n",
                "   CreatedBy VARCHAR(100) NOT NULL,\n",
                "   CreatedDate DATETIME NOT NULL,\n",
                "   UpdatedBy VARCHAR(100) NOT NULL,\n",
                "   UpdatedDate DATETIME NOT NULL,\n",
                "CONSTRAINT [PK_diagnosis] PRIMARY KEY CLUSTERED         \n",
                "(        \n",
                "  DiagnosisID ASC   \n",
                "    \n",
                ")WITH (PAD_INDEX  = OFF, STATISTICS_NORECOMPUTE  = OFF, IGNORE_DUP_KEY = OFF, ALLOW_ROW_LOCKS  = ON, ALLOW_PAGE_LOCKS  = ON) ON [PRIMARY],\n",
                "CONSTRAINT FK_ImageID_2 FOREIGN KEY (ImageID)\n",
                "    REFERENCES xray_image(ImageID)\n",
                ");    \n",
                ""
            ],
            "metadata": {
                "azdata_cell_guid": "69e9cdda-725b-4ff8-b88b-4488f64b68e1",
                "tags": []
            },
            "outputs": [
                {
                    "output_type": "display_data",
                    "data": {
                        "text/html": "Commands completed successfully."
                    },
                    "metadata": {}
                },
                {
                    "output_type": "display_data",
                    "data": {
                        "text/html": "Commands completed successfully."
                    },
                    "metadata": {}
                },
                {
                    "output_type": "display_data",
                    "data": {
                        "text/html": "Total execution time: 00:00:00.042"
                    },
                    "metadata": {}
                }
            ],
            "execution_count": 2
        },
        {
            "cell_type": "markdown",
            "source": [
                "## 6. Benchmark Image Table"
            ],
            "metadata": {
                "azdata_cell_guid": "446e69b1-f293-4a84-ad35-6fce2c41f9e8"
            }
        },
        {
            "cell_type": "code",
            "source": [
                "-- This is the table for storing benchmark image records\n",
                "\n",
                "IF EXISTS ( SELECT [name] FROM sys.tables WHERE [name] = 'ref_image' )   \n",
                "DROP TABLE ref_image   \n",
                "GO   \n",
                "     \n",
                "CREATE TABLE ref_image   \n",
                "(   \n",
                "  RefImageID int identity(1,1), \n",
                "  Gender VARCHAR(100) NOT NULL,\n",
                "  AgeGroup VARCHAR(100) NOT NULL,\n",
                "   RefImageFile VARBINARY(max),\n",
                "   RefImageURL VARCHAR(MAX),\n",
                "   CreatedBy VARCHAR(100),\n",
                "   CreatedDate DATETIME,\n",
                "   UpdatedBy VARCHAR(100),\n",
                "   UpdatedDate DATETIME,\n",
                "CONSTRAINT [PK_ref_image] PRIMARY KEY CLUSTERED         \n",
                "(        \n",
                "  RefImageID ASC   \n",
                "    \n",
                ")WITH (PAD_INDEX  = OFF, STATISTICS_NORECOMPUTE  = OFF, IGNORE_DUP_KEY = OFF, ALLOW_ROW_LOCKS  = ON, ALLOW_PAGE_LOCKS  = ON) ON [PRIMARY]\n",
                "); "
            ],
            "metadata": {
                "azdata_cell_guid": "f7dc6123-6b23-48c9-9638-c622f5bfc7bc"
            },
            "outputs": [
                {
                    "output_type": "display_data",
                    "data": {
                        "text/html": "Commands completed successfully."
                    },
                    "metadata": {}
                },
                {
                    "output_type": "display_data",
                    "data": {
                        "text/html": "Commands completed successfully."
                    },
                    "metadata": {}
                },
                {
                    "output_type": "display_data",
                    "data": {
                        "text/html": "Total execution time: 00:00:00.115"
                    },
                    "metadata": {}
                }
            ],
            "execution_count": 10
        },
        {
            "cell_type": "code",
            "source": [
                "-- Insert benchmark records into database\n",
                "INSERT INTO ref_image\n",
                "  (Gender, AgeGroup)\n",
                "VALUES\n",
                "  ('Female', '0-5'), \n",
                "  ('Female', '6-10'),\n",
                "  ('Female', '11-15'),\n",
                "  ('Female', '16-21'), \n",
                "  ('Female', '22-30'),\n",
                "  ('Female', '31-40'),\n",
                "  ('Female', '41-50'),\n",
                "  ('Female', '51-60'),\n",
                "  ('Female', '61-70'),\n",
                "  ('Female', '71-80'),\n",
                "  ('Female', '81-90'),\n",
                "  ('Female', '91-100'),\n",
                "  ('Female', 'Over 100'),\n",
                "  ('Male', '0-5'), \n",
                "  ('Male', '6-10'),\n",
                "  ('Male', '11-15'),\n",
                "  ('Male', '16-21'), \n",
                "  ('Male', '22-30'),\n",
                "  ('Male', '31-40'),\n",
                "  ('Male', '41-50'),\n",
                "  ('Male', '51-60'),\n",
                "  ('Male', '61-70'),\n",
                "  ('Male', '71-80'),\n",
                "  ('Male', '81-90'),\n",
                "  ('Male', '91-100'),\n",
                "  ('Male', 'Over 100')\n",
                ";"
            ],
            "metadata": {
                "azdata_cell_guid": "fba396ae-d14a-4878-8029-82a619a5999f"
            },
            "outputs": [
                {
                    "output_type": "display_data",
                    "data": {
                        "text/html": "(26 rows affected)"
                    },
                    "metadata": {}
                },
                {
                    "output_type": "display_data",
                    "data": {
                        "text/html": "Total execution time: 00:00:00.070"
                    },
                    "metadata": {}
                }
            ],
            "execution_count": 11
        },
        {
            "cell_type": "markdown",
            "source": [
                "## 7. Vitals Table"
            ],
            "metadata": {
                "azdata_cell_guid": "4e2b53f0-dc88-42f8-9253-0e8d1251b2d8"
            }
        },
        {
            "cell_type": "code",
            "source": [
                "IF EXISTS ( SELECT [name] FROM sys.tables WHERE [name] = 'vitals' )   \n",
                "DROP TABLE vitals   \n",
                "GO   \n",
                "     \n",
                "CREATE TABLE vitals   \n",
                "(   \n",
                "  VitalsID int identity(1,1), \n",
                "  PatientID int NOT NULL,\n",
                "  VitalTakeDate DATETIME NOT NULL,\n",
                "   BodyWeight float,\n",
                "   BMI float,\n",
                "   BloodPressure float,\n",
                "   Cholesterol float,\n",
                "   CreatedBy VARCHAR(100),\n",
                "   CreatedDate DATETIME,\n",
                "   UpdatedBy VARCHAR(100),\n",
                "   UpdatedDate DATETIME,\n",
                "CONSTRAINT [PK_vitals] PRIMARY KEY CLUSTERED         \n",
                "(        \n",
                "  VitalsID ASC   \n",
                "    \n",
                ")WITH (PAD_INDEX  = OFF, STATISTICS_NORECOMPUTE  = OFF, IGNORE_DUP_KEY = OFF, ALLOW_ROW_LOCKS  = ON, ALLOW_PAGE_LOCKS  = ON) ON [PRIMARY],\n",
                "CONSTRAINT FK_vitals FOREIGN KEY (PatientID)\n",
                "    REFERENCES patient(PatientID)\n",
                ");    \n",
                ""
            ],
            "metadata": {
                "azdata_cell_guid": "6dcfc963-f79b-437e-b01c-235780d5960b"
            },
            "outputs": [
                {
                    "output_type": "display_data",
                    "data": {
                        "text/html": "Commands completed successfully."
                    },
                    "metadata": {}
                },
                {
                    "output_type": "display_data",
                    "data": {
                        "text/html": "Commands completed successfully."
                    },
                    "metadata": {}
                },
                {
                    "output_type": "display_data",
                    "data": {
                        "text/html": "Total execution time: 00:00:00.097"
                    },
                    "metadata": {}
                }
            ],
            "execution_count": 1
        },
        {
            "cell_type": "code",
            "source": [
                "ALTER TABLE vitals\n",
                "ADD BodyHeight float;"
            ],
            "metadata": {
                "azdata_cell_guid": "364852d0-5f60-4f0f-97aa-b22c765cb55d"
            },
            "outputs": [
                {
                    "output_type": "display_data",
                    "data": {
                        "text/html": "Commands completed successfully."
                    },
                    "metadata": {}
                },
                {
                    "output_type": "display_data",
                    "data": {
                        "text/html": "Total execution time: 00:00:00.057"
                    },
                    "metadata": {}
                }
            ],
            "execution_count": 2
        },
        {
            "cell_type": "code",
            "source": [
                "ALTER TABLE vitals\n",
                "drop COLUMN BloodPressure;\n",
                "\n",
                "ALTER TABLE vitals\n",
                "ADD DiastolicBP float;\n",
                "\n",
                "ALTER TABLE vitals\n",
                "ADD SystolicBP float;"
            ],
            "metadata": {
                "azdata_cell_guid": "64e0567d-798a-4576-a5f0-64c7dc4dcff1"
            },
            "outputs": [
                {
                    "output_type": "display_data",
                    "data": {
                        "text/html": "Commands completed successfully."
                    },
                    "metadata": {}
                },
                {
                    "output_type": "display_data",
                    "data": {
                        "text/html": "Total execution time: 00:00:00.066"
                    },
                    "metadata": {}
                }
            ],
            "execution_count": 1
        },
        {
            "cell_type": "code",
            "source": [
                "INSERT INTO vitals\n",
                "    (PatientID, VitalTakeDate, BodyWeight, BodyHeight, BMI, DiastolicBP, SystolicBP)\n",
                "VALUES (2, 2016-06-01, 53, 165, 19.47, 72, 108)\n",
                "      ,(2, 2016-12-10, 56, 164, 20.82, 70, 110)\n",
                "      ,(2, 2017-07-01, 60, 165, 20.04, 68, 92)\n",
                "      ,(2, 2018-01-14, 56, 164, 20.82, 66, 108)\n",
                "      ,(2, 2018-10-10, 53, 164, 19.71, 65, 100)\n",
                "      ,(2, 2019-05-12, 52, 165, 19.10, 71, 97)\n",
                "      ,(2, 2020-02-14, 51, 164, 18.96, 66, 96)\n",
                "      ,(1, 2016-06-01, 83, 185, 24.25, 82, 118)\n",
                "      ,(1, 2016-12-10, 86, 184, 25.40, 80, 120)\n",
                "      ,(1, 2017-07-01, 90, 185, 26.30, 78, 102)\n",
                "      ,(1, 2018-01-14, 86, 184, 25.40, 76, 118)\n",
                "      ,(1, 2018-10-10, 83, 184, 24.52, 75, 110)\n",
                "      ,(1, 2019-05-12, 82, 185, 23.96, 81, 107)\n",
                "      ,(1, 2020-02-14, 81, 184, 23.92, 86, 106);\n",
                "\n",
                "      \n",
                ""
            ],
            "metadata": {
                "azdata_cell_guid": "7f2efff8-2685-4276-bb44-3f3986665c48"
            },
            "outputs": [
                {
                    "output_type": "display_data",
                    "data": {
                        "text/html": "(14 rows affected)"
                    },
                    "metadata": {}
                },
                {
                    "output_type": "display_data",
                    "data": {
                        "text/html": "Total execution time: 00:00:00.084"
                    },
                    "metadata": {}
                }
            ],
            "execution_count": 2
        },
        {
            "cell_type": "markdown",
            "source": [
                "## 8. Medications Table"
            ],
            "metadata": {
                "azdata_cell_guid": "66133ebc-db28-4204-a730-765cc501784b"
            }
        },
        {
            "cell_type": "code",
            "source": [
                "IF EXISTS ( SELECT [name] FROM sys.tables WHERE [name] = 'medications' )   \n",
                "DROP TABLE medications   \n",
                "GO   \n",
                "     \n",
                "CREATE TABLE medications   \n",
                "(   \n",
                "  MedID int identity(1,1), \n",
                "  PatientID int NOT NULL,\n",
                "  PrescribedDate DATETIME NOT NULL,\n",
                "   PrescribedBy VARCHAR(100),\n",
                "   MedName VARCHAR(max),\n",
                "   EndDate DATETIME,\n",
                "   CreatedBy VARCHAR(100),\n",
                "   CreatedDate DATETIME,\n",
                "   UpdatedBy VARCHAR(100),\n",
                "   UpdatedDate DATETIME,\n",
                "CONSTRAINT [PK_med] PRIMARY KEY CLUSTERED         \n",
                "(        \n",
                "  MedID ASC   \n",
                "    \n",
                ")WITH (PAD_INDEX  = OFF, STATISTICS_NORECOMPUTE  = OFF, IGNORE_DUP_KEY = OFF, ALLOW_ROW_LOCKS  = ON, ALLOW_PAGE_LOCKS  = ON) ON [PRIMARY],\n",
                "CONSTRAINT FK_med FOREIGN KEY (PatientID)\n",
                "    REFERENCES patient(PatientID)\n",
                ");    \n",
                ""
            ],
            "metadata": {
                "azdata_cell_guid": "c6761e75-1fc0-49e1-8068-2df5737f6870"
            },
            "outputs": [
                {
                    "output_type": "display_data",
                    "data": {
                        "text/html": "Commands completed successfully."
                    },
                    "metadata": {}
                },
                {
                    "output_type": "display_data",
                    "data": {
                        "text/html": "Commands completed successfully."
                    },
                    "metadata": {}
                },
                {
                    "output_type": "display_data",
                    "data": {
                        "text/html": "Total execution time: 00:00:00.076"
                    },
                    "metadata": {}
                }
            ],
            "execution_count": 2
        },
        {
            "cell_type": "code",
            "source": [
                "INSERT INTO medications\n",
                "    (PatientID, PrescribedDate, PrescribedBy, MedName, EndDate)\n",
                "VALUES (2, 2016-06-21, 'Susan Peck, M.D.', 'Simvastatin', 2016-08-01)\n",
                "      ,(2, 2018-10-10, 'Curtis Lin, M.D.', 'Amoxil', 2018-12-10)\n",
                "      ,(2, 2019-05-12, 'Staphanie Becker, M.D.', 'Neurontin', NULL)\n",
                "      ,(2, 2020-02-14, 'Susan Peck, M.D.', 'Zestril', NULL)\n",
                "      ,(1, 2018-10-10, 'Brian Long, M.D.', 'Levoxyl', 2018-12-01)\n",
                "      ,(1, 2019-05-12, 'Brian Long, M.D.', 'Delasone', NULL)\n",
                "      ,(1, 2020-02-14, 'Larry Barret, M.D.', 'Lipitor', NULL);\n",
                ""
            ],
            "metadata": {
                "azdata_cell_guid": "a14a162a-e9e3-47f3-b5c3-f564252c036a"
            },
            "outputs": [
                {
                    "output_type": "display_data",
                    "data": {
                        "text/html": "(7 rows affected)"
                    },
                    "metadata": {}
                },
                {
                    "output_type": "display_data",
                    "data": {
                        "text/html": "Total execution time: 00:00:00.046"
                    },
                    "metadata": {}
                }
            ],
            "execution_count": 3
        },
        {
            "cell_type": "markdown",
            "source": [
                "## 9. Vaccines Table"
            ],
            "metadata": {
                "azdata_cell_guid": "bcd2793d-b866-4031-b98c-f428c3b771f6"
            }
        },
        {
            "cell_type": "code",
            "source": [
                "IF EXISTS ( SELECT [name] FROM sys.tables WHERE [name] = 'vaccines' )   \n",
                "DROP TABLE vaccines   \n",
                "GO   \n",
                "     \n",
                "CREATE TABLE vaccines   \n",
                "(   \n",
                "  VaccineID int identity(1,1), \n",
                "  PatientID int NOT NULL,\n",
                "  ReceivedDate DATETIME NOT NULL,\n",
                "   VaccineName VARCHAR(max),\n",
                "   CreatedBy VARCHAR(100),\n",
                "   CreatedDate DATETIME,\n",
                "   UpdatedBy VARCHAR(100),\n",
                "   UpdatedDate DATETIME,\n",
                "CONSTRAINT [PK_vaccine] PRIMARY KEY CLUSTERED         \n",
                "(        \n",
                "  VaccineID ASC   \n",
                "    \n",
                ")WITH (PAD_INDEX  = OFF, STATISTICS_NORECOMPUTE  = OFF, IGNORE_DUP_KEY = OFF, ALLOW_ROW_LOCKS  = ON, ALLOW_PAGE_LOCKS  = ON) ON [PRIMARY],\n",
                "CONSTRAINT FK_vaccine FOREIGN KEY (PatientID)\n",
                "    REFERENCES patient(PatientID)\n",
                ");  "
            ],
            "metadata": {
                "azdata_cell_guid": "2a43ef37-e459-4ec9-a8a7-c6200329b6aa"
            },
            "outputs": [
                {
                    "output_type": "display_data",
                    "data": {
                        "text/html": "Commands completed successfully."
                    },
                    "metadata": {}
                },
                {
                    "output_type": "display_data",
                    "data": {
                        "text/html": "Commands completed successfully."
                    },
                    "metadata": {}
                },
                {
                    "output_type": "display_data",
                    "data": {
                        "text/html": "Total execution time: 00:00:00.065"
                    },
                    "metadata": {}
                }
            ],
            "execution_count": 3
        },
        {
            "cell_type": "code",
            "source": [
                "INSERT INTO vaccines\n",
                "    (PatientID, ReceivedDate, VaccineName)\n",
                "VALUES (2, 2017-05-21, 'Tdap')\n",
                "      ,(2, 2019-03-10, 'Hepatitis A')\n",
                "      ,(1, 2019-07-10, 'MMR')\n",
                "      ,(1, 2020-05-12, 'Hepatitis B');"
            ],
            "metadata": {
                "azdata_cell_guid": "0a7bf3f6-9441-41ed-a7d1-05d7e3fef115"
            },
            "outputs": [
                {
                    "output_type": "display_data",
                    "data": {
                        "text/html": "(4 rows affected)"
                    },
                    "metadata": {}
                },
                {
                    "output_type": "display_data",
                    "data": {
                        "text/html": "Total execution time: 00:00:00.067"
                    },
                    "metadata": {}
                }
            ],
            "execution_count": 4
        },
        {
            "cell_type": "markdown",
            "source": [
                "## 10. Medical Problems Table"
            ],
            "metadata": {
                "azdata_cell_guid": "28197eb0-2eeb-4d04-a39f-308ae9cc672b"
            }
        },
        {
            "cell_type": "code",
            "source": [
                "IF EXISTS ( SELECT [name] FROM sys.tables WHERE [name] = 'med_problems' )   \n",
                "DROP TABLE med_problems   \n",
                "GO   \n",
                "     \n",
                "CREATE TABLE med_problems   \n",
                "(   \n",
                "  ProblemID int identity(1,1), \n",
                "  PatientID int NOT NULL,\n",
                "  OnsetDate DATETIME NOT NULL,\n",
                "   ProblemName VARCHAR(max),\n",
                "   ProblemStatus VARCHAR(100),\n",
                "   CreatedBy VARCHAR(100),\n",
                "   CreatedDate DATETIME,\n",
                "   UpdatedBy VARCHAR(100),\n",
                "   UpdatedDate DATETIME,\n",
                "CONSTRAINT [PK_medproblem] PRIMARY KEY CLUSTERED         \n",
                "(        \n",
                "  ProblemID ASC   \n",
                "    \n",
                ")WITH (PAD_INDEX  = OFF, STATISTICS_NORECOMPUTE  = OFF, IGNORE_DUP_KEY = OFF, ALLOW_ROW_LOCKS  = ON, ALLOW_PAGE_LOCKS  = ON) ON [PRIMARY],\n",
                "CONSTRAINT FK_medproblem FOREIGN KEY (PatientID)\n",
                "    REFERENCES patient(PatientID)\n",
                ");  "
            ],
            "metadata": {
                "azdata_cell_guid": "a006ad95-722f-4430-bebd-5634233b2a18"
            },
            "outputs": [
                {
                    "output_type": "display_data",
                    "data": {
                        "text/html": "Commands completed successfully."
                    },
                    "metadata": {}
                },
                {
                    "output_type": "display_data",
                    "data": {
                        "text/html": "Commands completed successfully."
                    },
                    "metadata": {}
                },
                {
                    "output_type": "display_data",
                    "data": {
                        "text/html": "Total execution time: 00:00:00.079"
                    },
                    "metadata": {}
                }
            ],
            "execution_count": 1
        },
        {
            "cell_type": "code",
            "source": [
                "INSERT INTO med_problems\n",
                "    (PatientID, OnsetDate, ProblemName, ProblemStatus)\n",
                "VALUES (2, 2019-04-27, 'Asthma', 'Active')\n",
                "      ,(2, 2020-03-10, 'Influenza', 'Closed')\n",
                "      ,(1, 2019-08-10, 'Hypertension', 'Active')\n",
                "      ,(1, 2020-02-12, 'Back pain', 'Active');"
            ],
            "metadata": {
                "azdata_cell_guid": "7a9dd7c3-9073-4a27-85fd-ee60806308d2"
            },
            "outputs": [
                {
                    "output_type": "display_data",
                    "data": {
                        "text/html": "(4 rows affected)"
                    },
                    "metadata": {}
                },
                {
                    "output_type": "display_data",
                    "data": {
                        "text/html": "Total execution time: 00:00:00.044"
                    },
                    "metadata": {}
                }
            ],
            "execution_count": 5
        }
    ]
}